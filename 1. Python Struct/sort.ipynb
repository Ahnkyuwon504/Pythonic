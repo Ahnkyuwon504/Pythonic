{
  "nbformat": 4,
  "nbformat_minor": 0,
  "metadata": {
    "colab": {
      "provenance": [],
      "authorship_tag": "ABX9TyNrkfwuPvMgybqz74y0QaSC",
      "include_colab_link": true
    },
    "kernelspec": {
      "name": "python3",
      "display_name": "Python 3"
    },
    "language_info": {
      "name": "python"
    }
  },
  "cells": [
    {
      "cell_type": "markdown",
      "metadata": {
        "id": "view-in-github",
        "colab_type": "text"
      },
      "source": [
        "<a href=\"https://colab.research.google.com/github/Ahnkyuwon504/Pythonic/blob/main/1.%20Python%20Struct/sort.ipynb\" target=\"_parent\"><img src=\"https://colab.research.google.com/assets/colab-badge.svg\" alt=\"Open In Colab\"/></a>"
      ]
    },
    {
      "cell_type": "code",
      "execution_count": 8,
      "metadata": {
        "colab": {
          "base_uri": "https://localhost:8080/"
        },
        "id": "kZRgAk43szTG",
        "outputId": "ccc5fefd-4f30-44c6-c3d7-5a53da594d91"
      },
      "outputs": [
        {
          "output_type": "stream",
          "name": "stdout",
          "text": [
            "['apple', 'banana', 'grape', 'raspberry']\n",
            "['grape', 'raspberry', 'apple', 'banana']\n",
            "['raspberry', 'grape', 'banana', 'apple']\n",
            "['grape', 'apple', 'banana', 'raspberry']\n",
            "['raspberry', 'banana', 'grape', 'apple']\n",
            "['grape', 'raspberry', 'apple', 'banana']\n",
            "None\n",
            "['apple', 'banana', 'grape', 'raspberry']\n"
          ]
        }
      ],
      "source": [
        "fruits = ['grape', 'raspberry', 'apple', 'banana']\n",
        "\n",
        "print(sorted(fruits)) # 새로운 객체 생성\n",
        "print(fruits)\n",
        "print(sorted(fruits, reverse=True))\n",
        "print(sorted(fruits, key=len))\n",
        "print(sorted(fruits, key=len, reverse=True))\n",
        "print(fruits)\n",
        "print(fruits.sort()) # 새로운 리스트가 생성되지 않았기 때문에 None이 return됨\n",
        "print(fruits)"
      ]
    }
  ]
}