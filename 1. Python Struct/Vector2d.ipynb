{
  "nbformat": 4,
  "nbformat_minor": 0,
  "metadata": {
    "colab": {
      "provenance": [],
      "authorship_tag": "ABX9TyPpCADTmgaNeKKP5Ave0cC5",
      "include_colab_link": true
    },
    "kernelspec": {
      "name": "python3",
      "display_name": "Python 3"
    },
    "language_info": {
      "name": "python"
    }
  },
  "cells": [
    {
      "cell_type": "markdown",
      "metadata": {
        "id": "view-in-github",
        "colab_type": "text"
      },
      "source": [
        "<a href=\"https://colab.research.google.com/github/Ahnkyuwon504/Pythonic/blob/main/1.%20Python%20Struct/Vector2d.ipynb\" target=\"_parent\"><img src=\"https://colab.research.google.com/assets/colab-badge.svg\" alt=\"Open In Colab\"/></a>"
      ]
    },
    {
      "cell_type": "code",
      "execution_count": 4,
      "metadata": {
        "id": "iFUYLStPCOE_"
      },
      "outputs": [],
      "source": [
        "\"\"\"\n",
        "특별 메서드 구현\n",
        "특별 메소드는 직접 호출되지 않는다. 파이썬 인터프리터가 호출한다.\n",
        "\n",
        "!r은 str를 따옴표로 감싸서 출력해준다.\n",
        "__repr__()를 구현하지 않으면 파이썬 콘솔에서는 Vector 인스턴스를 출력한다.\n",
        "표현된 객체를 재생성하는 코드와 일치하는 게 좋다.\n",
        "\n",
        "중위 연산자는 객체를 새로 만든다. 기존 피연산자의 값을 바꾸지 않는 게 표준 작동 방식이다.\n",
        "\n",
        "모든 것은 객체이며, 객체의 의미는 객체가 정의한다.\n",
        "\"\"\"\n",
        "\n",
        "import math\n",
        "\n",
        "class Vector:\n",
        "\n",
        "  def __init__(self, x=0, y=0):\n",
        "    self.x = x\n",
        "    self.y = y\n",
        "\n",
        "  def __repr__(self):\n",
        "    return f'Vector({self.x!r}, {self.y!r})'\n",
        "\n",
        "  def __abs__(self):\n",
        "    return math.hypot(self.x, self.y)\n",
        "\n",
        "  def __bool__(self):\n",
        "    # 생각이 필요한 버전\n",
        "    # return bool(self.x or self.y)\n",
        "    return bool(abs(self))\n",
        "\n",
        "  def __add__(self, other):\n",
        "    x = self.x + other.x\n",
        "    y = self.y + other.y\n",
        "    return Vector(x, y)\n",
        "\n",
        "  def __mul__(self, scalar):\n",
        "    return Vector(self.x * scalar, self.y * scalar)"
      ]
    },
    {
      "cell_type": "code",
      "source": [
        "v1 = Vector(2,4)\n",
        "v2 = Vector(3, 'sunny')\n",
        "\n",
        "print(v1)\n",
        "print(v2)"
      ],
      "metadata": {
        "colab": {
          "base_uri": "https://localhost:8080/"
        },
        "id": "ymY5GbpLCrtx",
        "outputId": "c0f78845-590f-4a52-8aaf-e5c60428f59e"
      },
      "execution_count": 11,
      "outputs": [
        {
          "output_type": "stream",
          "name": "stdout",
          "text": [
            "Vector(2, 4)\n",
            "Vector(3, 'sunny')\n"
          ]
        }
      ]
    },
    {
      "cell_type": "code",
      "source": [
        "v3 = Vector(1, 2)\n",
        "v4 = Vector(-2, 3)\n",
        "\n",
        "print(v3 + v4)\n",
        "print(v3 * 4)\n",
        "print(abs(v4))"
      ],
      "metadata": {
        "colab": {
          "base_uri": "https://localhost:8080/"
        },
        "id": "lRecQ9hkFiRB",
        "outputId": "1d0d2171-be2f-40f4-b76b-0e3be65bb0af"
      },
      "execution_count": 10,
      "outputs": [
        {
          "output_type": "stream",
          "name": "stdout",
          "text": [
            "Vector(-1, 5)\n",
            "Vector(4, 8)\n",
            "3.605551275463989\n"
          ]
        }
      ]
    },
    {
      "cell_type": "code",
      "source": [
        "v5 = Vector(1, 2)\n",
        "v6 = Vector(0, 0)\n",
        "\n",
        "if v5:\n",
        "  print('v5 is valid.')\n",
        "else:\n",
        "  print('v5 is invalid.')\n",
        "\n",
        "if v6:\n",
        "  print('v6 is valid.')\n",
        "else:\n",
        "  print('v6 is invalid.')"
      ],
      "metadata": {
        "colab": {
          "base_uri": "https://localhost:8080/"
        },
        "id": "YWe2YNjTGOGx",
        "outputId": "7fb521d5-dfe5-46f1-9638-3ed94811f46c"
      },
      "execution_count": 13,
      "outputs": [
        {
          "output_type": "stream",
          "name": "stdout",
          "text": [
            "v5 is valid.\n",
            "v6 is invalid.\n"
          ]
        }
      ]
    }
  ]
}