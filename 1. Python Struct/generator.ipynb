{
  "nbformat": 4,
  "nbformat_minor": 0,
  "metadata": {
    "colab": {
      "provenance": [],
      "authorship_tag": "ABX9TyMXBmzM/BP7enaNun7HTua/",
      "include_colab_link": true
    },
    "kernelspec": {
      "name": "python3",
      "display_name": "Python 3"
    },
    "language_info": {
      "name": "python"
    }
  },
  "cells": [
    {
      "cell_type": "markdown",
      "metadata": {
        "id": "view-in-github",
        "colab_type": "text"
      },
      "source": [
        "<a href=\"https://colab.research.google.com/github/Ahnkyuwon504/Pythonic/blob/main/1.%20Python%20Struct/generator.ipynb\" target=\"_parent\"><img src=\"https://colab.research.google.com/assets/colab-badge.svg\" alt=\"Open In Colab\"/></a>"
      ]
    },
    {
      "cell_type": "code",
      "execution_count": 1,
      "metadata": {
        "colab": {
          "base_uri": "https://localhost:8080/"
        },
        "id": "IfrrgeqxRjnC",
        "outputId": "5fe29995-f4dd-4ef9-bc33-e70ef6c8e421"
      },
      "outputs": [
        {
          "output_type": "execute_result",
          "data": {
            "text/plain": [
              "(36, 37, 94, 38, 42)"
            ]
          },
          "metadata": {},
          "execution_count": 1
        }
      ],
      "source": [
        "symbols = '$%^&*'\n",
        "tuple(ord(symbol) for symbol in symbols)"
      ]
    },
    {
      "cell_type": "code",
      "source": [
        "import array\n",
        "array.array('I', (ord(symbol) for symbol in symbols))"
      ],
      "metadata": {
        "colab": {
          "base_uri": "https://localhost:8080/"
        },
        "id": "fXZ2H_NuSLQ-",
        "outputId": "da4c9f8b-b6ff-4e75-c4d7-78245a42efb6"
      },
      "execution_count": 2,
      "outputs": [
        {
          "output_type": "execute_result",
          "data": {
            "text/plain": [
              "array('I', [36, 37, 94, 38, 42])"
            ]
          },
          "metadata": {},
          "execution_count": 2
        }
      ]
    },
    {
      "cell_type": "code",
      "source": [
        "colors = ['black', 'white']\n",
        "sizes = ['S', 'M', 'L']\n",
        "# 메모리에 여섯 개 항목이 들어가지 않는다. 한 번에 한 항목만 생성되어 메모리를 아낄 수 있다.\n",
        "for tshirt in (f'{c} {s}' for c in colors for s in sizes):\n",
        "  print(tshirt)"
      ],
      "metadata": {
        "colab": {
          "base_uri": "https://localhost:8080/"
        },
        "id": "60-C08-4Snvx",
        "outputId": "56837f5d-8316-4d8d-fd17-0243b6a0d32b"
      },
      "execution_count": 3,
      "outputs": [
        {
          "output_type": "stream",
          "name": "stdout",
          "text": [
            "black S\n",
            "black M\n",
            "black L\n",
            "white S\n",
            "white M\n",
            "white L\n"
          ]
        }
      ]
    }
  ]
}