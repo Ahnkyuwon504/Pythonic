{
  "nbformat": 4,
  "nbformat_minor": 0,
  "metadata": {
    "colab": {
      "provenance": [],
      "authorship_tag": "ABX9TyOjBw5kXo0K42PI4D4E41ZC",
      "include_colab_link": true
    },
    "kernelspec": {
      "name": "python3",
      "display_name": "Python 3"
    },
    "language_info": {
      "name": "python"
    }
  },
  "cells": [
    {
      "cell_type": "markdown",
      "metadata": {
        "id": "view-in-github",
        "colab_type": "text"
      },
      "source": [
        "<a href=\"https://colab.research.google.com/github/Ahnkyuwon504/Pythonic/blob/main/1.%20Python%20Struct/dictcomp.ipynb\" target=\"_parent\"><img src=\"https://colab.research.google.com/assets/colab-badge.svg\" alt=\"Open In Colab\"/></a>"
      ]
    },
    {
      "cell_type": "code",
      "execution_count": 1,
      "metadata": {
        "id": "XmHoEeCZLlCP"
      },
      "outputs": [],
      "source": [
        "dial_codes = [\n",
        "    (880, 'Bangladesh'),\n",
        "    (55, 'Brazil'),\n",
        "    (86, 'China'),\n",
        "    (91, 'India'),\n",
        "    (62, 'Indonesia'),\n",
        "    (81, 'Japan'),\n",
        "    (234, 'Nigeria'),\n",
        "    (92, 'Pakistan'),\n",
        "    (7, 'Russia'),\n",
        "]"
      ]
    },
    {
      "cell_type": "code",
      "source": [
        "country_dial = {country: code for code, country in dial_codes}\n",
        "print(country_dial)"
      ],
      "metadata": {
        "colab": {
          "base_uri": "https://localhost:8080/"
        },
        "id": "Ffb0ycRFMkV5",
        "outputId": "29865825-a2e1-4be6-9f05-30cecaac4906"
      },
      "execution_count": 2,
      "outputs": [
        {
          "output_type": "stream",
          "name": "stdout",
          "text": [
            "{'Bangladesh': 880, 'Brazil': 55, 'China': 86, 'India': 91, 'Indonesia': 62, 'Japan': 81, 'Nigeria': 234, 'Pakistan': 92, 'Russia': 7}\n"
          ]
        }
      ]
    },
    {
      "cell_type": "code",
      "source": [
        "filtered_country_dial = {\n",
        "  code: country.upper()\n",
        "  for country, code in sorted(country_dial.items()) if code < 70\n",
        "}\n",
        "print(filtered_country_dial)"
      ],
      "metadata": {
        "colab": {
          "base_uri": "https://localhost:8080/"
        },
        "id": "fd4WR6CXMmZz",
        "outputId": "2e06c1d5-477f-473f-8c06-62fc7b924901"
      },
      "execution_count": 4,
      "outputs": [
        {
          "output_type": "stream",
          "name": "stdout",
          "text": [
            "{55: 'BRAZIL', 62: 'INDONESIA', 7: 'RUSSIA'}\n"
          ]
        }
      ]
    },
    {
      "cell_type": "code",
      "source": [
        "def dump(**kwargs):\n",
        "  return kwargs\n",
        "\n",
        "dump(**{'x': 1}, y=2, **{'z': 3})"
      ],
      "metadata": {
        "colab": {
          "base_uri": "https://localhost:8080/"
        },
        "id": "08BR_TwvN7Re",
        "outputId": "099fb002-a28e-406f-ccc0-057a43db2dfa"
      },
      "execution_count": 5,
      "outputs": [
        {
          "output_type": "execute_result",
          "data": {
            "text/plain": [
              "{'x': 1, 'y': 2, 'z': 3}"
            ]
          },
          "metadata": {},
          "execution_count": 5
        }
      ]
    },
    {
      "cell_type": "code",
      "source": [
        "d1 = {'a': 1, 'b': 3}\n",
        "d2 = {'a': 2, 'b': 4, 'c': 6}\n",
        "d1 | d2"
      ],
      "metadata": {
        "colab": {
          "base_uri": "https://localhost:8080/"
        },
        "id": "baKWFrcZOOC8",
        "outputId": "54247292-b93d-44de-eb10-8ca59242a03e"
      },
      "execution_count": 6,
      "outputs": [
        {
          "output_type": "execute_result",
          "data": {
            "text/plain": [
              "{'a': 2, 'b': 4, 'c': 6}"
            ]
          },
          "metadata": {},
          "execution_count": 6
        }
      ]
    },
    {
      "cell_type": "code",
      "source": [
        "print(d1)\n",
        "d1 |= d2\n",
        "print(d1)"
      ],
      "metadata": {
        "colab": {
          "base_uri": "https://localhost:8080/"
        },
        "id": "jf4_wjJfOU56",
        "outputId": "b6db9d85-2db5-41e7-aa0d-513b27fddab6"
      },
      "execution_count": 9,
      "outputs": [
        {
          "output_type": "stream",
          "name": "stdout",
          "text": [
            "{'a': 1, 'b': 3}\n",
            "{'a': 2, 'b': 4, 'c': 6}\n"
          ]
        }
      ]
    }
  ]
}