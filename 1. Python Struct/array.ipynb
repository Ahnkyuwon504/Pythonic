{
  "nbformat": 4,
  "nbformat_minor": 0,
  "metadata": {
    "colab": {
      "provenance": [],
      "authorship_tag": "ABX9TyMr4gVxd3RDdv89EfHZDNx8",
      "include_colab_link": true
    },
    "kernelspec": {
      "name": "python3",
      "display_name": "Python 3"
    },
    "language_info": {
      "name": "python"
    }
  },
  "cells": [
    {
      "cell_type": "markdown",
      "metadata": {
        "id": "view-in-github",
        "colab_type": "text"
      },
      "source": [
        "<a href=\"https://colab.research.google.com/github/Ahnkyuwon504/Pythonic/blob/main/1.%20Python%20Struct/array.ipynb\" target=\"_parent\"><img src=\"https://colab.research.google.com/assets/colab-badge.svg\" alt=\"Open In Colab\"/></a>"
      ]
    },
    {
      "cell_type": "code",
      "execution_count": 2,
      "metadata": {
        "colab": {
          "base_uri": "https://localhost:8080/"
        },
        "id": "83r1mqFLvipU",
        "outputId": "3019ad5f-84a7-4f20-f211-6b1ef4d0990a"
      },
      "outputs": [
        {
          "output_type": "stream",
          "name": "stdout",
          "text": [
            "0.11094602952925892\n",
            "0.11094602952925892\n",
            "True\n"
          ]
        }
      ],
      "source": [
        "\"\"\"\n",
        "-128부터 127까지 저장할 수 있는 signed char의 자료형 코드는 b\n",
        "array('b') 배열을 생성시 각 항목은 단일 바이트로 저장되며 하나의 정수로 해석됨\n",
        "\n",
        "'d'는 float타입이고 C의 double이다. 8바이트로 배정밀도 부동소수점\n",
        "\"\"\"\n",
        "\n",
        "from array import array\n",
        "from random import random\n",
        "\n",
        "floats = array('d', (random() for i in range(10**7)))\n",
        "print(floats[-1])\n",
        "\n",
        "fp = open('floats.bin', 'wb')\n",
        "floats.tofile(fp)\n",
        "fp.close()\n",
        "\n",
        "floats2 = array('d')\n",
        "fp = open('floats.bin', 'rb')\n",
        "floats2.fromfile(fp, 10**7)\n",
        "fp.close()\n",
        "\n",
        "print(floats2[-1])\n",
        "\n",
        "print(floats2 == floats)"
      ]
    }
  ]
}