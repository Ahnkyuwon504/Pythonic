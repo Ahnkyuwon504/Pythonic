{
  "nbformat": 4,
  "nbformat_minor": 0,
  "metadata": {
    "colab": {
      "provenance": [],
      "authorship_tag": "ABX9TyPt4LgQzP6m6gUsJ+1nEYUL",
      "include_colab_link": true
    },
    "kernelspec": {
      "name": "python3",
      "display_name": "Python 3"
    },
    "language_info": {
      "name": "python"
    }
  },
  "cells": [
    {
      "cell_type": "markdown",
      "metadata": {
        "id": "view-in-github",
        "colab_type": "text"
      },
      "source": [
        "<a href=\"https://colab.research.google.com/github/Ahnkyuwon504/Pythonic/blob/main/1.%20Python%20Struct/sequence.ipynb\" target=\"_parent\"><img src=\"https://colab.research.google.com/assets/colab-badge.svg\" alt=\"Open In Colab\"/></a>"
      ]
    },
    {
      "cell_type": "code",
      "execution_count": 1,
      "metadata": {
        "colab": {
          "base_uri": "https://localhost:8080/"
        },
        "id": "I1VTlR2bK3UN",
        "outputId": "3458622b-0cbd-4e75-8dee-2cd02bc81fb4"
      },
      "outputs": [
        {
          "output_type": "execute_result",
          "data": {
            "text/plain": [
              "[1, 2, 3, 1, 2, 3, 1, 2, 3, 1, 2, 3, 1, 2, 3]"
            ]
          },
          "metadata": {},
          "execution_count": 1
        }
      ],
      "source": [
        "# 덧셈 및 곱셈 연산자는 언제나 객체를 새로 만들고, 피연산자는 변경하지 않는다.\n",
        "l = [1, 2, 3]\n",
        "l * 5"
      ]
    },
    {
      "cell_type": "code",
      "source": [
        "5 * 'abcd'"
      ],
      "metadata": {
        "colab": {
          "base_uri": "https://localhost:8080/",
          "height": 35
        },
        "id": "jw-rrsglLBY6",
        "outputId": "61a36997-f8d7-4d21-a163-66152b3db758"
      },
      "execution_count": 2,
      "outputs": [
        {
          "output_type": "execute_result",
          "data": {
            "text/plain": [
              "'abcdabcdabcdabcdabcd'"
            ],
            "application/vnd.google.colaboratory.intrinsic+json": {
              "type": "string"
            }
          },
          "metadata": {},
          "execution_count": 2
        }
      ]
    },
    {
      "cell_type": "code",
      "source": [
        "board = [['_'] * 3 for i in range(3)]\n",
        "board"
      ],
      "metadata": {
        "colab": {
          "base_uri": "https://localhost:8080/"
        },
        "id": "IFF3xEr9LZNa",
        "outputId": "dc0af27b-25ec-4ac3-92e0-903dc78bb910"
      },
      "execution_count": 3,
      "outputs": [
        {
          "output_type": "execute_result",
          "data": {
            "text/plain": [
              "[['_', '_', '_'], ['_', '_', '_'], ['_', '_', '_']]"
            ]
          },
          "metadata": {},
          "execution_count": 3
        }
      ]
    },
    {
      "cell_type": "code",
      "source": [
        "board[1][2] = 'X'\n",
        "board"
      ],
      "metadata": {
        "colab": {
          "base_uri": "https://localhost:8080/"
        },
        "id": "KtK4GnLYLdOZ",
        "outputId": "90d46915-851f-4f4b-af12-ad55c49a8931"
      },
      "execution_count": 5,
      "outputs": [
        {
          "output_type": "execute_result",
          "data": {
            "text/plain": [
              "[['_', '_', '_'], ['_', '_', 'X'], ['_', '_', '_']]"
            ]
          },
          "metadata": {},
          "execution_count": 5
        }
      ]
    },
    {
      "cell_type": "code",
      "source": [
        "# 동일한 내부 리스트에 대한 참조가 3개\n",
        "board = [['_'] * 3] * 3\n",
        "board"
      ],
      "metadata": {
        "colab": {
          "base_uri": "https://localhost:8080/"
        },
        "id": "uHYvjanlLmUt",
        "outputId": "25ae0b72-8f98-4787-d3ae-946d3fa0321c"
      },
      "execution_count": 6,
      "outputs": [
        {
          "output_type": "execute_result",
          "data": {
            "text/plain": [
              "[['_', '_', '_'], ['_', '_', '_'], ['_', '_', '_']]"
            ]
          },
          "metadata": {},
          "execution_count": 6
        }
      ]
    },
    {
      "cell_type": "code",
      "source": [
        "board[1][2] = 'O'\n",
        "board"
      ],
      "metadata": {
        "colab": {
          "base_uri": "https://localhost:8080/"
        },
        "id": "8U42wfMaLp3h",
        "outputId": "30fa7f4a-5afc-40db-a3fa-fa7ee712779e"
      },
      "execution_count": 7,
      "outputs": [
        {
          "output_type": "execute_result",
          "data": {
            "text/plain": [
              "[['_', '_', 'O'], ['_', '_', 'O'], ['_', '_', 'O']]"
            ]
          },
          "metadata": {},
          "execution_count": 7
        }
      ]
    },
    {
      "cell_type": "code",
      "source": [
        "# 첫번째\n",
        "board = []\n",
        "for i in range(3):\n",
        "  row = ['_'] * 3\n",
        "  board.append(row)\n",
        "\n",
        "# 두번째\n",
        "board = []\n",
        "row = ['_'] * 3\n",
        "for i in range(3):\n",
        "  board.append(row)"
      ],
      "metadata": {
        "id": "2PsxYPAXM4hg"
      },
      "execution_count": null,
      "outputs": []
    },
    {
      "cell_type": "code",
      "source": [
        "# 가변 시퀀스\n",
        "l = [1, 2, 3]\n",
        "print(id(l))\n",
        "\n",
        "l *= 2\n",
        "print(l)\n",
        "print(id(l))\n",
        "\n",
        "# 불변 시퀀스\n",
        "t = (1, 2, 3)\n",
        "print(id(t))\n",
        "\n",
        "t *= 2\n",
        "print(t)\n",
        "print(id(t))"
      ],
      "metadata": {
        "colab": {
          "base_uri": "https://localhost:8080/"
        },
        "id": "KT6eHDwdOBKq",
        "outputId": "347bb318-0017-48d8-99d1-d9f3a470a2a6"
      },
      "execution_count": 13,
      "outputs": [
        {
          "output_type": "stream",
          "name": "stdout",
          "text": [
            "135203084968832\n",
            "[1, 2, 3, 1, 2, 3]\n",
            "135203084968832\n",
            "135203085634752\n",
            "(1, 2, 3, 1, 2, 3)\n",
            "135203087484864\n"
          ]
        }
      ]
    }
  ]
}