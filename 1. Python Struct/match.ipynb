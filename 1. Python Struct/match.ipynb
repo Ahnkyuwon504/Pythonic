{
  "nbformat": 4,
  "nbformat_minor": 0,
  "metadata": {
    "colab": {
      "provenance": [],
      "authorship_tag": "ABX9TyPigHi2+cUc7rWmU/qnLy2d",
      "include_colab_link": true
    },
    "kernelspec": {
      "name": "python3",
      "display_name": "Python 3"
    },
    "language_info": {
      "name": "python"
    }
  },
  "cells": [
    {
      "cell_type": "markdown",
      "metadata": {
        "id": "view-in-github",
        "colab_type": "text"
      },
      "source": [
        "<a href=\"https://colab.research.google.com/github/Ahnkyuwon504/Pythonic/blob/main/1.%20Python%20Struct/match.ipynb\" target=\"_parent\"><img src=\"https://colab.research.google.com/assets/colab-badge.svg\" alt=\"Open In Colab\"/></a>"
      ]
    },
    {
      "cell_type": "code",
      "execution_count": 1,
      "metadata": {
        "id": "2CTFVt8q9ne6"
      },
      "outputs": [],
      "source": [
        "def handle_command(self, message):\n",
        "  match message:\n",
        "    case ['BEEPER', frequency, times]:\n",
        "      self.beep(times, frequency)\n",
        "    case ['NECK', angle]:\n",
        "      self.rotate_neck(angle)\n",
        "    case ['LED', ident, intensity]:\n",
        "      self.leds[ident].set_brightness(ident, intensity)\n",
        "    case ['LED', ident, red, green, blue]:\n",
        "      self.leds[ident].set_color(ident, red, green, blue)\n",
        "    case _:\n",
        "      # raise InvalidCommand(message)\n",
        "      pass"
      ]
    },
    {
      "cell_type": "code",
      "source": [
        "metro_areas = [\n",
        "    ('Tokyo', 'JP', 36.933, (35.689722, 139.691667)),\n",
        "    ('Delhi NCR', 'IN', 21.935, (28.339722, -77.223567)),\n",
        "    ('Seoul', 36.933, (35.689722, 139.691667)),\n",
        "]\n",
        "\n",
        "for record in metro_areas:\n",
        "  match record:\n",
        "    case [name, _, _, (lat, lon)] if lon <= 0:\n",
        "      print(f'{name:15} | {lat:9.4f} | {lon:9.4f}')"
      ],
      "metadata": {
        "colab": {
          "base_uri": "https://localhost:8080/"
        },
        "id": "jx7_qrgfCeNT",
        "outputId": "3c6f92b3-9583-4e87-c001-f0f71989b8dc"
      },
      "execution_count": 3,
      "outputs": [
        {
          "output_type": "stream",
          "name": "stdout",
          "text": [
            "Delhi NCR       |   28.3397 |  -77.2236\n"
          ]
        }
      ]
    }
  ]
}