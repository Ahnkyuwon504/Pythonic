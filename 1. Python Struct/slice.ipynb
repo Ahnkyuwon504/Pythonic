{
  "nbformat": 4,
  "nbformat_minor": 0,
  "metadata": {
    "colab": {
      "provenance": [],
      "authorship_tag": "ABX9TyMSx2WXDaEyaBl+obgnnlPT",
      "include_colab_link": true
    },
    "kernelspec": {
      "name": "python3",
      "display_name": "Python 3"
    },
    "language_info": {
      "name": "python"
    }
  },
  "cells": [
    {
      "cell_type": "markdown",
      "metadata": {
        "id": "view-in-github",
        "colab_type": "text"
      },
      "source": [
        "<a href=\"https://colab.research.google.com/github/Ahnkyuwon504/Pythonic/blob/main/1.%20Python%20Struct/slice.ipynb\" target=\"_parent\"><img src=\"https://colab.research.google.com/assets/colab-badge.svg\" alt=\"Open In Colab\"/></a>"
      ]
    },
    {
      "cell_type": "code",
      "execution_count": 1,
      "metadata": {
        "colab": {
          "base_uri": "https://localhost:8080/"
        },
        "id": "N2bmaIN_Hjyg",
        "outputId": "f99baddd-b318-4310-db95-15388e0ca125"
      },
      "outputs": [
        {
          "output_type": "stream",
          "name": "stdout",
          "text": [
            "bye\n",
            "elcycib\n",
            "eccb\n"
          ]
        }
      ],
      "source": [
        "s = 'bicycle'\n",
        "\n",
        "print(s[::3])\n",
        "print(s[::-1])\n",
        "print(s[::-2])"
      ]
    },
    {
      "cell_type": "code",
      "source": [
        "invoice = \"\"\"\n",
        "0......6............40.....52...55.....\n",
        "1909  Pimoroni $17.50\n",
        "1489  6mm Tacs $4.95\n",
        "\"\"\"\n",
        "\n",
        "SKU = slice(0.6)\n",
        "DESCRIPTION = slice(6, 40)\n",
        "UNIT_PRICE = slice(40, 52)\n",
        "\n",
        "line_items = invoice.split('\\n')[2:]\n",
        "for item in line_items:\n",
        "  print(item[UNIT_PRICE], item[DESCRIPTION])"
      ],
      "metadata": {
        "colab": {
          "base_uri": "https://localhost:8080/"
        },
        "id": "B7EDsyIjIh0x",
        "outputId": "f645c47e-a192-46df-a0fb-7d1736f7cbca"
      },
      "execution_count": 3,
      "outputs": [
        {
          "output_type": "stream",
          "name": "stdout",
          "text": [
            " Pimoroni $17.50\n",
            " 6mm Tacs $4.95\n",
            " \n"
          ]
        }
      ]
    },
    {
      "cell_type": "code",
      "source": [
        "l = list(range(10))\n",
        "print(l)\n",
        "\n",
        "l[2:5] = [20, 30]\n",
        "print(l)\n",
        "\n",
        "del l[5:7]\n",
        "print(l)\n",
        "\n",
        "l[3::2] = [11, 22]\n",
        "print(l)\n",
        "\n",
        "\"\"\"\n",
        "l[2:5] = 100\n",
        "print(l)\n",
        "TypeError: can only assign an iterable\n",
        "\"\"\"\n",
        "\n",
        "l[2:5] = [100]\n",
        "print(l)"
      ],
      "metadata": {
        "colab": {
          "base_uri": "https://localhost:8080/"
        },
        "id": "EXSc3TbPJlnD",
        "outputId": "5acf5e35-3c3f-45cf-b6f5-1010bf3e6a3e"
      },
      "execution_count": 7,
      "outputs": [
        {
          "output_type": "stream",
          "name": "stdout",
          "text": [
            "[0, 1, 2, 3, 4, 5, 6, 7, 8, 9]\n",
            "[0, 1, 20, 30, 5, 6, 7, 8, 9]\n",
            "[0, 1, 20, 30, 5, 8, 9]\n",
            "[0, 1, 20, 11, 5, 22, 9]\n",
            "[0, 1, 100, 22, 9]\n"
          ]
        }
      ]
    }
  ]
}