{
  "nbformat": 4,
  "nbformat_minor": 0,
  "metadata": {
    "colab": {
      "provenance": [],
      "authorship_tag": "ABX9TyPxQ27zXx4u/uNorLkz765H",
      "include_colab_link": true
    },
    "kernelspec": {
      "name": "python3",
      "display_name": "Python 3"
    },
    "language_info": {
      "name": "python"
    }
  },
  "cells": [
    {
      "cell_type": "markdown",
      "metadata": {
        "id": "view-in-github",
        "colab_type": "text"
      },
      "source": [
        "<a href=\"https://colab.research.google.com/github/Ahnkyuwon504/Pythonic/blob/main/1.%20Python%20Data%20Model/Card.ipynb\" target=\"_parent\"><img src=\"https://colab.research.google.com/assets/colab-badge.svg\" alt=\"Open In Colab\"/></a>"
      ]
    },
    {
      "cell_type": "code",
      "execution_count": 2,
      "metadata": {
        "colab": {
          "base_uri": "https://localhost:8080/"
        },
        "id": "6DehctcLzuSo",
        "outputId": "fa594bd6-9e71-4b1a-b235-5e56ce3c4dbd"
      },
      "outputs": [
        {
          "output_type": "stream",
          "name": "stdout",
          "text": [
            "A\n",
            "heart\n",
            "Card(rank='A', suit='heart')\n"
          ]
        }
      ],
      "source": [
        "import collections\n",
        "\n",
        "Card = collections.namedtuple('Card', ['rank', 'suit'])\n",
        "\n",
        "card = Card('A', 'heart')\n",
        "\n",
        "print(card.rank)\n",
        "print(card.suit)\n",
        "print(card)"
      ]
    },
    {
      "cell_type": "markdown",
      "source": [
        "두 메소드를 구현했기 때문에 리스트처럼 동작한다."
      ],
      "metadata": {
        "id": "AyenSsUG2_8G"
      }
    },
    {
      "cell_type": "code",
      "source": [
        "class FrenchDeck:\n",
        "  ranks = [str(n) for n in range(2, 11)] + list('JQKA')\n",
        "  suits = 'spades diamonds clubs hearts'.split()\n",
        "\n",
        "  def __init__(self):\n",
        "    self._cards = [Card(rank, suit) for suit in self.suits\n",
        "                                    for rank in self.ranks]\n",
        "\n",
        "  def __len__(self):\n",
        "    return len(self._cards)\n",
        "\n",
        "  def __getitem__(self, position):\n",
        "    return self._cards[position]"
      ],
      "metadata": {
        "id": "jTvrlmz10qXb"
      },
      "execution_count": 17,
      "outputs": []
    },
    {
      "cell_type": "code",
      "source": [
        "deck = FrenchDeck()\n",
        "\n",
        "len(deck)"
      ],
      "metadata": {
        "colab": {
          "base_uri": "https://localhost:8080/"
        },
        "id": "BKOJQQrX16U0",
        "outputId": "ac2f256d-869a-4f43-8447-4f96f577bf3d"
      },
      "execution_count": 18,
      "outputs": [
        {
          "output_type": "execute_result",
          "data": {
            "text/plain": [
              "52"
            ]
          },
          "metadata": {},
          "execution_count": 18
        }
      ]
    },
    {
      "cell_type": "code",
      "source": [
        "print(deck[0])\n",
        "print(deck[1])\n",
        "print(deck[13])\n",
        "print(deck[-1])"
      ],
      "metadata": {
        "colab": {
          "base_uri": "https://localhost:8080/"
        },
        "id": "RScUEssh2AlN",
        "outputId": "66fbddb2-f0e2-42f2-86bd-da63564aa508"
      },
      "execution_count": 6,
      "outputs": [
        {
          "output_type": "stream",
          "name": "stdout",
          "text": [
            "Card(rank='2', suit='spades')\n",
            "Card(rank='3', suit='spades')\n",
            "Card(rank='2', suit='diamonds')\n",
            "Card(rank='A', suit='hearts')\n"
          ]
        }
      ]
    },
    {
      "cell_type": "code",
      "source": [
        "from random import choice\n",
        "\n",
        "print(choice(deck))\n",
        "print(choice(deck))\n",
        "print(choice(deck))"
      ],
      "metadata": {
        "colab": {
          "base_uri": "https://localhost:8080/"
        },
        "id": "qYkWBItu2Kq0",
        "outputId": "968735fd-bec2-46ce-984f-6bf081ad9fbd"
      },
      "execution_count": 11,
      "outputs": [
        {
          "output_type": "stream",
          "name": "stdout",
          "text": [
            "Card(rank='3', suit='spades')\n",
            "Card(rank='10', suit='spades')\n",
            "Card(rank='5', suit='diamonds')\n"
          ]
        }
      ]
    },
    {
      "cell_type": "code",
      "source": [
        "print(deck[:3])\n",
        "print(deck[12::13])"
      ],
      "metadata": {
        "colab": {
          "base_uri": "https://localhost:8080/"
        },
        "id": "bZJETQ4v2cLB",
        "outputId": "3b1c9017-0184-4f1e-d185-4f5a75e73719"
      },
      "execution_count": 13,
      "outputs": [
        {
          "output_type": "stream",
          "name": "stdout",
          "text": [
            "[Card(rank='2', suit='spades'), Card(rank='3', suit='spades'), Card(rank='4', suit='spades')]\n",
            "[Card(rank='A', suit='spades'), Card(rank='A', suit='diamonds'), Card(rank='A', suit='clubs'), Card(rank='A', suit='hearts')]\n"
          ]
        }
      ]
    },
    {
      "cell_type": "code",
      "source": [
        "for idx, card in enumerate(deck):\n",
        "  if idx > 3:\n",
        "    break\n",
        "  print(card)"
      ],
      "metadata": {
        "colab": {
          "base_uri": "https://localhost:8080/"
        },
        "id": "MMdqJCS63OEL",
        "outputId": "b25faf84-2f5b-40db-c888-38bbd08a7994"
      },
      "execution_count": 21,
      "outputs": [
        {
          "output_type": "stream",
          "name": "stdout",
          "text": [
            "Card(rank='2', suit='spades')\n",
            "Card(rank='3', suit='spades')\n",
            "Card(rank='4', suit='spades')\n",
            "Card(rank='5', suit='spades')\n"
          ]
        }
      ]
    },
    {
      "cell_type": "code",
      "source": [
        "Card('Q', 'hearts') in deck"
      ],
      "metadata": {
        "colab": {
          "base_uri": "https://localhost:8080/"
        },
        "id": "wNjv0TFq3oyA",
        "outputId": "e1c277c5-c71b-4652-c588-8e0e95edb6a3"
      },
      "execution_count": 22,
      "outputs": [
        {
          "output_type": "execute_result",
          "data": {
            "text/plain": [
              "True"
            ]
          },
          "metadata": {},
          "execution_count": 22
        }
      ]
    },
    {
      "cell_type": "code",
      "source": [
        "Card('7', 'beats') in deck"
      ],
      "metadata": {
        "colab": {
          "base_uri": "https://localhost:8080/"
        },
        "id": "SUQvYyNi3rn_",
        "outputId": "de4b60cd-a771-4140-bd7b-74a49cdba937"
      },
      "execution_count": 23,
      "outputs": [
        {
          "output_type": "execute_result",
          "data": {
            "text/plain": [
              "False"
            ]
          },
          "metadata": {},
          "execution_count": 23
        }
      ]
    },
    {
      "cell_type": "code",
      "source": [
        "suit_values = dict(spades=3, hearts=2, diamonds=1, clubs=0)\n",
        "\n",
        "def spades_high(card):\n",
        "  rank_value = FrenchDeck.ranks.index(card.rank)\n",
        "  return rank_value * len(suit_values) + suit_values[card.suit]"
      ],
      "metadata": {
        "id": "vR8zwIjl31Xr"
      },
      "execution_count": 24,
      "outputs": []
    },
    {
      "cell_type": "code",
      "source": [
        "for card in sorted(deck, key=spades_high):\n",
        "  print(card)"
      ],
      "metadata": {
        "colab": {
          "base_uri": "https://localhost:8080/"
        },
        "id": "kKjHE2kd4QUB",
        "outputId": "2ea97f32-2be2-4b80-d3e9-27e4f273310b"
      },
      "execution_count": 25,
      "outputs": [
        {
          "output_type": "stream",
          "name": "stdout",
          "text": [
            "Card(rank='2', suit='clubs')\n",
            "Card(rank='2', suit='diamonds')\n",
            "Card(rank='2', suit='hearts')\n",
            "Card(rank='2', suit='spades')\n",
            "Card(rank='3', suit='clubs')\n",
            "Card(rank='3', suit='diamonds')\n",
            "Card(rank='3', suit='hearts')\n",
            "Card(rank='3', suit='spades')\n",
            "Card(rank='4', suit='clubs')\n",
            "Card(rank='4', suit='diamonds')\n",
            "Card(rank='4', suit='hearts')\n",
            "Card(rank='4', suit='spades')\n",
            "Card(rank='5', suit='clubs')\n",
            "Card(rank='5', suit='diamonds')\n",
            "Card(rank='5', suit='hearts')\n",
            "Card(rank='5', suit='spades')\n",
            "Card(rank='6', suit='clubs')\n",
            "Card(rank='6', suit='diamonds')\n",
            "Card(rank='6', suit='hearts')\n",
            "Card(rank='6', suit='spades')\n",
            "Card(rank='7', suit='clubs')\n",
            "Card(rank='7', suit='diamonds')\n",
            "Card(rank='7', suit='hearts')\n",
            "Card(rank='7', suit='spades')\n",
            "Card(rank='8', suit='clubs')\n",
            "Card(rank='8', suit='diamonds')\n",
            "Card(rank='8', suit='hearts')\n",
            "Card(rank='8', suit='spades')\n",
            "Card(rank='9', suit='clubs')\n",
            "Card(rank='9', suit='diamonds')\n",
            "Card(rank='9', suit='hearts')\n",
            "Card(rank='9', suit='spades')\n",
            "Card(rank='10', suit='clubs')\n",
            "Card(rank='10', suit='diamonds')\n",
            "Card(rank='10', suit='hearts')\n",
            "Card(rank='10', suit='spades')\n",
            "Card(rank='J', suit='clubs')\n",
            "Card(rank='J', suit='diamonds')\n",
            "Card(rank='J', suit='hearts')\n",
            "Card(rank='J', suit='spades')\n",
            "Card(rank='Q', suit='clubs')\n",
            "Card(rank='Q', suit='diamonds')\n",
            "Card(rank='Q', suit='hearts')\n",
            "Card(rank='Q', suit='spades')\n",
            "Card(rank='K', suit='clubs')\n",
            "Card(rank='K', suit='diamonds')\n",
            "Card(rank='K', suit='hearts')\n",
            "Card(rank='K', suit='spades')\n",
            "Card(rank='A', suit='clubs')\n",
            "Card(rank='A', suit='diamonds')\n",
            "Card(rank='A', suit='hearts')\n",
            "Card(rank='A', suit='spades')\n"
          ]
        }
      ]
    }
  ]
}